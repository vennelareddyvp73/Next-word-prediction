{
  "nbformat": 4,
  "nbformat_minor": 0,
  "metadata": {
    "colab": {
      "provenance": []
    },
    "kernelspec": {
      "name": "python3",
      "display_name": "Python 3"
    },
    "language_info": {
      "name": "python"
    }
  },
  "cells": [
    {
      "cell_type": "markdown",
      "source": [
        "## Importing Libraries"
      ],
      "metadata": {
        "id": "uxWN47VWJ-Lt"
      }
    },
    {
      "cell_type": "code",
      "execution_count": 1,
      "metadata": {
        "id": "1X-b_exQJoBG"
      },
      "outputs": [],
      "source": [
        "import tensorflow as tf\n",
        "from tensorflow.keras.preprocessing.text  import Tokenizer\n",
        "from tensorflow.keras.layers import Embedding,LSTM,Dense\n",
        "from tensorflow.keras.models import Sequential\n",
        "from tensorflow.keras.utils import to_categorical\n",
        "from tensorflow.keras.optimizers import Adam\n",
        "import pickle\n",
        "import numpy as np\n",
        "import os\n"
      ]
    },
    {
      "cell_type": "code",
      "source": [
        "file = open(\"/content/metamorphosis_clean.txt\" , \"r\" , encoding =\"utf8\")\n",
        "lines = []\n",
        "\n",
        "for i in file:\n",
        "  lines.append(i)\n",
        "\n",
        "print(\"The First line: \", lines[0])\n"
      ],
      "metadata": {
        "colab": {
          "base_uri": "https://localhost:8080/"
        },
        "id": "R2g-r0DgvV60",
        "outputId": "ed2a6769-24ae-46b4-866e-10d4194d3d2a"
      },
      "execution_count": 2,
      "outputs": [
        {
          "output_type": "stream",
          "name": "stdout",
          "text": [
            "The First line:  ﻿One morning, when Gregor Samsa woke from troubled dreams, he found\n",
            "\n"
          ]
        }
      ]
    },
    {
      "cell_type": "markdown",
      "source": [
        "## Cleaning the data"
      ],
      "metadata": {
        "id": "d33tSO-RxKmM"
      }
    },
    {
      "cell_type": "code",
      "source": [
        "data = \"\"\n",
        "for i in lines:\n",
        "  data = ' '.join(lines)\n",
        "\n",
        "data = data.replace('\\n', '').replace('\\r', '').replace('\\ufeff', '')\n",
        "data[:360]\n"
      ],
      "metadata": {
        "colab": {
          "base_uri": "https://localhost:8080/",
          "height": 105
        },
        "id": "3SP1dmKMxEtc",
        "outputId": "e994acaa-817f-4bfb-bcbf-79789eb9fca5"
      },
      "execution_count": 3,
      "outputs": [
        {
          "output_type": "execute_result",
          "data": {
            "text/plain": [
              "'One morning, when Gregor Samsa woke from troubled dreams, he found himself transformed in his bed into a horrible vermin.  He lay on his armour-like back, and if he lifted his head a little he could see his brown belly, slightly domed and divided by arches into stiff sections.  The bedding was hardly able to cover it and seemed ready to slide off any moment.'"
            ],
            "application/vnd.google.colaboratory.intrinsic+json": {
              "type": "string"
            }
          },
          "metadata": {},
          "execution_count": 3
        }
      ]
    },
    {
      "cell_type": "code",
      "source": [
        "## replaces punctuation\n",
        "import string\n",
        "\n",
        "translator = str.maketrans(string.punctuation, ' '*len(string.punctuation)) #map punctuation to space\n",
        "new_data = data.translate(translator)\n",
        "\n",
        "new_data[:500]"
      ],
      "metadata": {
        "colab": {
          "base_uri": "https://localhost:8080/",
          "height": 140
        },
        "id": "KnN11kLAxbZ1",
        "outputId": "7a8a9dc1-c3dd-4aa9-e61d-a06421bdcc16"
      },
      "execution_count": 4,
      "outputs": [
        {
          "output_type": "execute_result",
          "data": {
            "text/plain": [
              "'One morning  when Gregor Samsa woke from troubled dreams  he found himself transformed in his bed into a horrible vermin   He lay on his armour like back  and if he lifted his head a little he could see his brown belly  slightly domed and divided by arches into stiff sections   The bedding was hardly able to cover it and seemed ready to slide off any moment   His many legs  pitifully thin compared with the size of the rest of him  waved about helplessly as he looked    What s happened to me   he'"
            ],
            "application/vnd.google.colaboratory.intrinsic+json": {
              "type": "string"
            }
          },
          "metadata": {},
          "execution_count": 4
        }
      ]
    },
    {
      "cell_type": "code",
      "source": [
        "z = []\n",
        "\n",
        "for i in data.split():\n",
        "  if i not in z:\n",
        "    z.append(i)\n",
        "\n",
        "data =' '.join(z)\n",
        "\n",
        "print(z)"
      ],
      "metadata": {
        "colab": {
          "base_uri": "https://localhost:8080/"
        },
        "id": "TeIF1o4iyhHI",
        "outputId": "17ab2742-e395-4b4f-93c4-41de345c4606"
      },
      "execution_count": 5,
      "outputs": [
        {
          "output_type": "stream",
          "name": "stdout",
          "text": [
            "['One', 'morning,', 'when', 'Gregor', 'Samsa', 'woke', 'from', 'troubled', 'dreams,', 'he', 'found', 'himself', 'transformed', 'in', 'his', 'bed', 'into', 'a', 'horrible', 'vermin.', 'He', 'lay', 'on', 'armour-like', 'back,', 'and', 'if', 'lifted', 'head', 'little', 'could', 'see', 'brown', 'belly,', 'slightly', 'domed', 'divided', 'by', 'arches', 'stiff', 'sections.', 'The', 'bedding', 'was', 'hardly', 'able', 'to', 'cover', 'it', 'seemed', 'ready', 'slide', 'off', 'any', 'moment.', 'His', 'many', 'legs,', 'pitifully', 'thin', 'compared', 'with', 'the', 'size', 'of', 'rest', 'him,', 'waved', 'about', 'helplessly', 'as', 'looked.', '\"What\\'s', 'happened', 'me?\"', 'thought.', 'It', \"wasn't\", 'dream.', 'room,', 'proper', 'human', 'room', 'although', 'too', 'small,', 'peacefully', 'between', 'its', 'four', 'familiar', 'walls.', 'A', 'collection', 'textile', 'samples', 'spread', 'out', 'table', '-', 'travelling', 'salesman', 'above', 'there', 'hung', 'picture', 'that', 'had', 'recently', 'cut', 'an', 'illustrated', 'magazine', 'housed', 'nice,', 'gilded', 'frame.', 'showed', 'lady', 'fitted', 'fur', 'hat', 'boa', 'who', 'sat', 'upright,', 'raising', 'heavy', 'muff', 'covered', 'whole', 'her', 'lower', 'arm', 'towards', 'viewer.', 'then', 'turned', 'look', 'window', 'at', 'dull', 'weather.', 'Drops', 'rain', 'be', 'heard', 'hitting', 'pane,', 'which', 'made', 'him', 'feel', 'quite', 'sad.', '\"How', 'I', 'sleep', 'bit', 'longer', 'forget', 'all', 'this', 'nonsense\",', 'thought,', 'but', 'something', 'unable', 'do', 'because', 'used', 'sleeping', 'right,', 'present', 'state', \"couldn't\", 'get', 'position.', 'However', 'hard', 'threw', 'onto', 'always', 'rolled', 'back', 'where', 'was.', 'must', 'have', 'tried', 'hundred', 'times,', 'shut', 'eyes', 'so', \"wouldn't\", 'floundering', 'only', 'stopped', 'began', 'mild,', 'pain', 'never', 'felt', 'before.', '\"Oh,', 'God\",', '\"what', 'strenuous', 'career', 'is', \"I've\", 'chosen!', 'Travelling', 'day', 'out.', 'Doing', 'business', 'like', 'takes', 'much', 'more', 'effort', 'than', 'doing', 'your', 'own', 'home,', 'top', \"there's\", 'curse', 'travelling,', 'worries', 'making', 'train', 'connections,', 'bad', 'irregular', 'food,', 'contact', 'different', 'people', 'time', 'you', 'can', 'know', 'anyone', 'or', 'become', 'friendly', 'them.', 'go', 'Hell!\"', 'slight', 'itch', 'up', 'belly;', 'pushed', 'slowly', 'headboard', 'lift', 'better;', 'was,', 'saw', 'lots', 'white', 'spots', \"didn't\", 'what', 'make', 'of;', 'place', 'one', 'legs', 'drew', 'quickly', 'soon', 'touched', 'overcome', 'cold', 'shudder.', 'slid', 'former', '\"Getting', 'early', 'time\",', '\"it', 'makes', 'stupid.', \"You've\", 'got', 'enough', 'sleep.', 'Other', 'salesmen', 'live', 'life', 'luxury.', 'For', 'instance,', 'whenever', 'guest', 'house', 'during', 'morning', 'copy', 'contract,', 'these', 'gentlemen', 'are', 'still', 'sitting', 'eating', 'their', 'breakfasts.', 'ought', 'just', 'try', 'my', 'boss;', \"I'd\", 'kicked', 'spot.', 'But', 'knows,', 'maybe', 'would', 'best', 'thing', 'for', 'me.', 'If', 'parents', 'think', 'given', 'notice', 'long', 'ago,', 'gone', 'boss', 'told', 'think,', 'tell', 'everything', 'would,', 'let', 'feel.', \"He'd\", 'fall', 'right', 'desk!', 'And', \"it's\", 'funny', 'sort', 'desk,', 'talking', 'down', 'subordinates', 'there,', 'especially', 'close', 'hearing.', 'Well,', 'some', 'hope;', 'once', 'money', 'together', 'pay', \"parents'\", 'debt', 'another', 'five', 'six', 'years', 'suppose', \"that's\", 'definitely', \"I'll\", 'do.', \"That's\", 'big', 'change.', 'First', 'though,', 'up,', 'leaves', 'five.\"', 'looked', 'over', 'alarm', 'clock,', 'ticking', 'chest', 'drawers.', '\"God', 'Heaven!\"', 'half', 'past', 'hands', 'were', 'quietly', 'moving', 'forwards,', 'even', 'later', 'past,', 'quarter', 'seven.', 'Had', 'clock', 'not', 'rung?', 'been', 'set', \"o'clock\", 'should', 'been;', 'certainly', 'rung.', 'Yes,', 'possible', 'through', 'furniture-rattling', 'noise?', 'True,', 'slept', 'peacefully,', 'probably', 'deeply', 'that.', 'What', 'now?', 'next', 'went', 'seven;', 'catch', 'rush', 'mad', 'packed,', 'did', 'particularly', 'fresh', 'lively.', 'avoid', \"boss's\", 'anger', 'office', 'assistant', 'go,', 'put', 'report', \"Gregor's\", 'being', 'ago.', 'man,', 'spineless,', 'no', 'understanding.', 'reported', 'sick?', 'extremely', 'strained', 'suspicious', 'fifteen', 'service', 'yet', 'ill.', 'come', 'round', 'doctor', 'medical', 'insurance', 'company,', 'accuse', 'having', 'lazy', 'son,', 'accept', \"doctor's\", 'recommendation', 'claim', 'believed', 'no-one', 'ever', 'ill', 'workshy.', \"what's\", 'more,', 'entirely', 'wrong', 'case?', 'fact,', 'apart', 'excessive', 'sleepiness', 'after', 'long,', 'completely', 'well', 'hungrier', 'usual.', 'hurriedly', 'thinking', 'through,', 'decide', 'bed,', 'struck', 'There', 'cautious', 'knock', 'door', 'near', 'head.', '\"Gregor\",', 'somebody', 'called', 'mother', '\"it\\'s', \"Didn't\", 'want', 'somewhere?\"', 'That', 'gentle', 'voice!', 'shocked', 'voice', 'answering,', 'recognised', 'As', 'deep', 'inside', 'painful', 'uncontrollable', 'squeaking', 'mixed', 'it,', 'words', 'first', 'echo', 'them', 'unclear,', 'leaving', 'hearer', 'unsure', 'whether', 'properly', 'not.', 'wanted', 'give', 'full', 'answer', 'explain', 'everything,', 'circumstances', 'contented', 'saying:', '\"Yes,', 'mother,', 'yes,', 'thank-you,', \"I'm\", 'getting', 'now.\"', 'change', 'noticed', 'outside', 'wooden', 'door,', 'satisfied', 'explanation', 'shuffled', 'away.', 'short', 'conversation', 'other', 'members', 'family', 'aware', 'Gregor,', 'against', 'expectations', 'father', 'came', 'knocking', 'side', 'doors,', 'gently,', 'fist.', '\"Gregor,', 'Gregor\",', 'called,', '\"what\\'s', 'wrong?\"', 'while', 'again', 'warning', 'deepness', 'voice:', '\"Gregor!', 'Gregor!\"', 'At', 'sister', 'plaintively:', '\"Gregor?', \"Aren't\", 'well?', 'Do', 'need', 'anything?\"', 'answered', 'both', 'sides:', '\"I\\'m', 'ready,', 'now\",', 'remove', 'strangeness', 'enunciating', 'very', 'carefully', 'putting', 'pauses', 'each,', 'individual', 'word.', 'breakfast,', 'whispered:', 'open', 'beg', 'you.\"', 'however,', 'thought', 'opening', 'instead', 'congratulated', 'habit,', 'acquired', 'locking', 'doors', 'night', 'home.', 'peace', 'without', 'disturbed,', 'dressed,', 'most', 'breakfast.', 'Only', 'consider', 'next,', 'bring', 'thoughts', 'sensible', 'conclusions', 'lying', 'bed.', 'remembered', 'often', 'perhaps', 'caused', 'awkwardly,', 'pure', 'imagination', 'wondered', 'how', 'imaginings', 'resolve', 'themselves', 'today.', 'slightest', 'doubt', 'nothing', 'sign', 'serious', 'cold,', 'occupational', 'hazard', 'salesmen.', 'simple', 'matter', 'throw', 'covers;', 'blow', 'they', 'fell', 'themselves.', 'became', 'difficult', 'that,', 'exceptionally', 'broad.', 'arms', 'push', 'up;', 'those', 'continuously', 'directions,', 'moreover', 'control.', 'bend', 'them,', 'stretch', 'itself', 'out;', 'finally', 'managed', 'leg,', 'others', 'free', 'move', 'painfully.', '\"This', \"can't\", 'done', 'bed\",', 'said', 'himself,', '\"so', \"don't\", 'keep', 'trying', 'it\".', 'part', 'body', 'seen', 'part,', 'imagine', 'like;', 'move;', 'slowly;', 'finally,', 'almost', 'frenzy,', 'carelessly', 'shoved', 'forwards', 'force', 'gather,', 'chose', 'direction,', 'hit', 'bedpost,', 'learned', 'burning', 'might', 'well,', 'present,', 'sensitive.', 'So', 'first,', 'turning', 'side.', 'This', 'easily,', 'despite', 'breadth', 'weight,', 'bulk', 'eventually', 'followed', 'direction', 'last', 'air', 'occurred', 'miracle', 'injured,', 'afraid', 'carry', 'pushing', 'forward', 'same', 'way.', 'now', 'price;', 'better', 'stay', 'lose', 'consciousness.', 'took', 'earlier,', 'sighing,', 'watching', 'struggled', 'each', 'harder', 'before,', 'possible,', 'way', 'bringing', 'order', 'chaos.', 'whatever', 'sacrifice.', 'time,', 'remind', 'calm', 'consideration', 'rushing', 'desperate', 'conclusions.', 'times', 'direct', 'clearly', 'could,', 'unfortunately,', 'narrow', 'street', 'enveloped', 'fog', 'view', 'confidence', 'cheer', 'offer', 'him.', '\"Seven', \"o'clock,\", 'already\",', 'again,', '\"seven', 'this.\"', 'longer,', 'breathing', 'lightly', 'expected', 'total', 'stillness', 'things', 'real', 'natural', 'state.', 'himself:', '\"Before', 'strikes', 'seven', 'will', 'work', 'ask', 'me', 'before', 'o\\'clock.\"', 'task', 'swinging', 'entire', 'length', 'time.', 'succeeded', 'falling', 'kept', 'raised', 'injuring', 'it.', 'hard,', 'happen', 'carpet.', 'main', 'concern', 'loud', 'noise', 'bound', 'make,', 'raise', 'alarm.', 'risked.', 'When', 'already', 'sticking', 'new', 'method', 'game', 'effort,', 'rock', 'forth', 'help', 'Two', 'strong', 'maid', 'mind', 'enough;', 'under', 'dome', 'peel', 'away', 'load', 'patient', 'careful', 'swang', 'floor,', 'where,', 'hopefully,', 'find', 'use.', 'Should', 'really', 'call', 'fact', 'locked?', 'Despite', 'difficulty', 'in,', 'suppress', 'smile', 'After', 'moved', 'far', 'across', 'balance', 'rocked', 'hard.', 'ten', 'final', 'decision', 'soon.', 'Then', 'ring', 'flat.', '\"That\\'ll', 'someone', 'work\",', 'froze', 'still,', 'lively', 'danced', 'around.', 'moment', 'remained', 'quiet.', '\"They\\'re', 'door\",', 'caught', 'nonsensical', 'hope.', 'course,', \"maid's\", 'firm', 'steps', 'opened', 'needed', 'hear', \"visitor's\", 'greeting', 'knew', 'chief', 'clerk', 'himself.', 'Why', 'condemned', 'company', 'immediately', 'highly', 'shortcoming?', 'Were', 'employees,', 'every', 'louts,', 'faithful', 'devoted', 'pangs', 'conscience', 'spend', 'least', 'couple', 'hours', 'business?', 'Was', 'trainees', 'enquiries', 'assuming', 'necessary', 'show', 'whole,', 'innocent', 'trusted', 'wisdom', 'investigate', 'it?', 'upset', 'decision,', 'thump,', 'noise.', 'softened', 'carpet,', 'also', 'elastic', 'sound', 'muffled', 'noticeable.', 'held', 'enough,', 'fell;', 'annoyed', 'pain,', 'rubbed', '\"Something\\'s', 'fallen', 'there\",', 'left.', 'today', 'too;', 'concede', 'possible.', 'gruff', 'reply', 'question,', \"clerk's\", 'footsteps', 'polished', 'boots', 'adjoining', 'room.', 'From', 'whispered', 'know:', 'here.\"', 'know\",', 'himself;', 'daring', 'left,', '\"the', 'has', 'wants', 'why', 'leave', 'train.', 'We', 'say', 'anyway,', 'speak', 'personally.', 'please', 'door.', 'sure', \"he'll\", 'good', 'forgive', 'untidiness', 'room.\"', '\"Good', 'Mr.', 'Samsa\".', '\"He', \"isn't\", 'well\",', 'clerk,', 'continued', 'believe', 'else', 'missed', 'train!', 'lad', 'thinks', 'business.', 'nearly', 'cross', 'goes', 'evenings;', \"he's\", 'town', 'week', 'stayed', 'home', 'evening.', 'sits', 'us', 'kitchen', 'reads', 'paper', 'studies', 'timetables.', 'idea', 'relaxation', 'working', 'fretsaw.', \"He's\", 'frame,', 'two', 'three', 'evenings,', \"you'll\", 'amazed', 'nice', 'is;', 'hanging', 'room;', 'opens', 'Anyway,', 'glad', \"you're\", 'here;', 'we', 'ourselves;', 'stubborn;', 'is,', 'isn\\'t.\"', '\"I\\'ll', 'moment\",', 'thoughtfully,', 'miss', 'word', 'conversation.', '\"Well', 'explaining', 'Mrs.', 'Samsa\",', '\"I', 'hope', 'serious.', 'hand,', 'commerce', 'unwell', 'then,', 'fortunately', 'unfortunately', 'like,', 'simply', 'considerations.\"', '\"Can', 'then?\",', 'asked', 'impatiently,', 'again.', '\"No\",', 'Gregor.', 'In', 'silence;', 'left', 'cry.', 'join', 'others?', 'She', 'begun', 'dressed.', 'she', 'crying?', 'danger', 'losing', 'job', 'pursue', 'demands', 'before?', 'worry', 'yet.', 'intention', 'abandoning', 'family.', 'condition', 'seriously', 'in.', 'minor', 'discourtesy,', 'suitable', 'excuse', 'easily', 'on,', 'sacked', 'disturbing', 'crying.', 'happening,', 'worried,', 'behaviour.', 'voice,', '\"Mr.', 'wrong?', 'You', 'barricade', 'yourself', 'yes', 'answer,', 'causing', 'unnecessary', 'fail', 'mention', 'duties', 'unheard', 'of.', 'speaking', 'here', 'behalf', 'employer,', 'request', 'clear', 'immediate', 'explanation.', 'am', 'astonished,', 'astonished.', 'person,', 'suddenly', 'seem', 'showing', 'peculiar', 'whims.', 'employer', 'suggest', 'reason', 'failure', 'appear,', 'true', 'entrusted', 'giving', 'honour', 'incomprehensible', 'stubbornness', 'wish', 'whatsoever', 'intercede', 'behalf.', 'nor', 'position', 'secure.', 'originally', 'intended', 'private,', 'since', 'cause', 'waste', 'learn', 'Your', 'turnover', 'unsatisfactory', 'late;', 'grant', 'year', 'business,', 'recognise', 'that;', 'all,', 'Samsa,', 'cannot', 'allow', 'be.\"', '\"But', 'Sir\",', 'beside', 'forgetting', 'excitement,', 'immediately,', 'unwell,', 'attack', 'dizziness,', \"haven't\", 'up.', 'now.', 'now,', 'though.', 'Just', 'Be', 'patient!', \"It's\", 'easy', 'alright', 'shocking,', 'person!', 'night,', 'me,', 'small', 'symptom', 'already.', 'They', 'work!', 'illness', 'staying', 'Please,', 'suffer!', \"There's\", 'basis', 'accusations', 'making;', \"nobody's\", 'things.', 'Maybe', 'read', 'latest', 'contracts', 'sent', 'eight', 'train,', 'few', 'strength.', 'wait,', 'sir;', 'you,', 'recommend', 'him!\"', 'gushed', 'words,', 'knowing', 'saying,', 'drawers', 'done,', 'practise', 'upright.', 'clerk;', 'insistent,', 'curious', 'sight', 'responsibility', 'rest.', 'If,', 'calmly', 'upset,', 'hurried', 'station', \"o'clock.\", 'climb', 'smooth', 'gave', 'swing', 'stood', 'upright;', 'attention', 'Now', 'nearby', 'chair', 'tightly', 'edges', 'legs.', 'By', 'calmed', 'down,', 'quiet', 'listen', 'saying.', '\"Did', 'understand', 'that?\"', 'parents,', '\"surely', 'fools', 'us\".', 'God!\"', 'tears,', '\"he', \"we're\", 'suffer.', 'Grete!', 'Grete!\"', 'cried.', '\"Mother?\"', 'communicated', '\"You\\'ll', 'straight', 'Quick,', 'doctor.', 'Did', 'spoke', 'now?\"', '\"That', 'animal\",', 'calmness', 'contrast', \"mother's\", 'screams.', '\"Anna!', 'Anna!\"', 'entrance', 'hall,', 'clapping', 'hands,', '\"get', 'locksmith', 'here,', 'now!\"', 'girls,', 'skirts', 'swishing,', 'ran', 'wrenching', 'front', 'flat', 'went.', 'How', 'dressed', 'quickly?', 'banging', 'again;', 'open;', 'homes', 'awful', 'happened.', 'contrast,', 'calmer.', 'clearer', 'ears', 'sound.', 'realised,', 'help.', 'response', 'situation', 'confident', 'wise,', 'better.', 'drawn', 'among', 'people,', 'great', 'surprising', 'achievements', 'distinguish', 'other.', 'Whatever', 'crucial,', 'so,', 'coughed', 'little,', 'taking', 'care', 'loudly', 'coughs', 'judge', 'Meanwhile,', 'Perhaps', 'whispering', 'pressed', 'listening.', 'chair.', 'Once', 'holding', 'upright', 'using', 'adhesive', 'tips', 'rested', 'recover', 'involved', 'key', 'lock', 'mouth.', 'seemed,', 'teeth', 'he,', 'grasp', 'key?', 'lack', 'jaw;', 'jaw,', 'start', 'turning,', 'ignoring', 'kind', 'damage', 'fluid', 'mouth,', 'flowed', 'dripped', 'floor.', '\"Listen\",', '\"he\\'s', 'key.\"', 'greatly', 'encouraged', 'this;', 'calling', 'too:', 'cried,', '\"keep', 'hold', 'lock!\"', 'excitedly', 'following', 'efforts,', 'strength,', 'paying', 'around', 'weight', 'needed.', 'snapped', 'break', 'concentration,', 'regained', 'breath', '\"So,', 'all\".', 'handle', 'completely.', 'Because', 'way,', 'wide', 'seen.', 'turn', 'double', 'entering', 'occupied', 'movement,', 'anything', 'else,', 'exclaim', '\"Oh!\",', 'sounded', 'soughing', 'wind.', 'nearest', 'hand', 'mouth', 'retreating', 'driven', 'steady', 'invisible', 'force.', 'hair', 'dishevelled', 'father.', 'unfolded', 'arms,', 'sank', 'floor', 'disappeared', 'breast.', 'hostile,', 'clenched', 'fists', 'wanting', 'uncertainly', 'living', 'wept', 'powerful', 'shook.', 'leant', 'bolted', 'place.', 'seen,', 'along', 'peered', 'others.', 'Meanwhile', 'lighter;', 'endless,', 'grey-black', 'building', 'hospital', 'austere', 'regular', 'line', 'windows', 'piercing', 'facade;', 'falling,', 'throwing', 'large,', 'droplets', 'ground', 'washing', 'breakfast', 'table;', 'because,', 'father,', 'important', 'meal', 'several', 'reading', 'number', 'newspapers.', 'On', 'wall', 'exactly', 'opposite', 'photograph', 'lieutenant', 'army,', 'sword', 'carefree', 'face', 'respect', 'uniform', 'bearing.', 'hall', 'landing', 'stairs', 'below.', '\"Now,', 'then\",', 'calm,', 'pack', 'off.', 'Will', 'leave?', 'see\",', '\"that', 'stubborn', 'job;', 'commercial', 'traveller', 'arduous', 'earn', 'living.', 'going,', 'office?', 'Yes?', 'accurately,', 'then?', 'temporarily', 'work,', 'remember', 'achieved', 'removed,', 'diligence', 'concentration.', \"You're\", 'our', 'sister,', 'trapped', 'situation,', 'Please', 'already,', 'take', 'sides', 'office.', 'nobody', 'likes', 'travellers.', 'enormous', 'wage', 'soft', 'prejudice', 'particular', 'sir,', 'overview', 'staff,', 'confidence,', 'businessman', 'mistakes', 'employees', 'harshly', 'should.', 'travellers', 'office,', 'victim', 'gossip', 'chance', 'groundless', 'complaints,', 'impossible', 'defend', 'thing,', 'usually', 'arrive', 'exhausted', 'trip,', 'harmful', 'effects', 'going', 'away,', 'partly', 'right!\"', 'started', 'speak,', 'and,', 'protruding', 'lips,', 'stared', 'trembling', 'shoulders', 'speaking,', 'steadily', 'gradually,', 'secret', 'prohibition', 'reached', 'sudden', 'foot', 'rushed', 'panic.', 'stretched', 'stairway', 'supernatural', 'waiting', 'save', 'realised', 'question', 'mood', 'extreme', 'danger.', 'well;', 'years,', 'convinced', 'provide', 'life,', 'besides,', 'lost', 'future.', 'won', 'over;', 'future', 'depended', 'it!', 'here!', 'clever;', 'tears', 'back.', 'lover', 'women,', 'surely', 'persuade', 'him;', 'talk', 'considering', 'state,', 'speech', 'understood,', 'door;', 'opening;', 'reach', 'who,', 'ridiculously,', 'banister', 'hands;', 'scream', 'sought', 'onto,', 'landed', 'numerous', 'Hardly', 'than,', 'day,', 'body;', 'solid', 'them;', 'pleasure,', 'go;', 'believing', 'sorrows', 'end.', 'urge', 'swayed', 'crouched', 'engrossed', 'herself,', 'jumped', 'outstretched', 'fingers', 'shouting:', '\"Help,', \"pity's\", 'sake,', 'Help!\"', 'suggested', 'better,', 'unthinking', 'hurrying', 'backwards', 'not;', 'forgotten', 'behind', 'it;', 'doing;', 'seeming', 'coffee', 'pot', 'knocked', 'gush', 'pouring', '\"Mother,', 'mother\",', 'looking', 'her.', 'moment,', 'snapping', 'jaws', 'flow', 'coffee.', 'screaming', 'anew,', 'fled', 'spare', 'now;', 'stairs;', 'chin', 'banister,', 'run', 'reaching', 'something,', 'leapt', 'disappeared;', 'shouts', 'resounding', 'staircase.', 'flight', 'panic', 'well.', 'Until', 'relatively', 'self', 'controlled,', 'running', 'impeding', 'seized', 'stick', '(the', 'chair,', 'overcoat),', 'picked', 'large', 'newspaper', 'drive', 'stamping', 'appeals', 'help,', 'however', 'humbly', 'merely', 'stamped', 'harder.', 'Across', 'chilly', 'weather,', 'pulled', 'window,', 'face.', 'draught', 'flew', 'stairway,', 'curtains', 'newspapers', 'fluttered', 'blown', 'Nothing', 'stop', 'drove', 'hissing', 'noises', 'wild', 'man.', 'practice', 'slowly.', 'allowed', 'impatient,', 'threat', 'lethal', \"father's\", 'Eventually,', 'choice', 'saw,', 'disgust,', 'incapable', 'line;', 'began,', 'frequent', 'anxious', 'glances', 'round.', 'slowly,', 'intentions', 'hinder', 'tip', 'directions', 'distance', 'turn.', 'unbearable', 'hissing!', 'confused.', 'finished', 'round,', 'listening', 'hissing,', 'mistake', 'come.', 'pleased', 'doorway,', 'narrow,', 'broad', 'further', 'difficulty.', 'mood,', 'obviously', 'occur', 'space', 'through.', 'fixed', 'Nor', 'preparation', 'doorway.', 'did,', 'ever,', 'way;', 'pleasant', 'experience,', 'doorway', 'regard', 'happen.', 'itself,', 'angle', 'flank', 'scraped', 'painfully', 'vile', 'flecks', 'stuck', 'fast', 'quivering', 'ground.', 'hefty', 'shove', 'released', 'flying,', 'heavily', 'bleeding,', 'slammed', 'stick,', 'II', 'until', 'dark', 'evening', 'awoke', 'coma-like', 'woken', 'afterwards', 'anyway', \"hadn't\", 'fully', 'rested.', 'impression', 'leading', 'light', 'electric', 'lamps', 'shone', 'palely', 'ceiling', 'tops', 'furniture,', 'below,', 'dark.', 'feeling', 'clumsily', 'antennae', 'beginning', 'value', 'happening', 'there.', 'one,', 'scar,', 'limped', 'badly', 'rows', 'injured', 'events', 'dragged', 'lifelessly.', 'actually', 'smell', 'eat.', 'dish', 'filled', 'sweetened', 'milk', 'pieces', 'bread', 'floating', 'laughed,', 'dipped', 'milk,', 'covering', 'disappointment;', 'tender', 'eat', 'food', 'worked', 'snuffling', 'taste', 'nice.', 'Milk', 'normally', 'favourite', 'drink,', 'turned,', 'will,', 'crawled', 'centre', 'Through', 'crack', 'gas', 'lit', 'paper,', 'sometimes', 'heard.', 'write', 'reading,', 'habit', 'recent', 'times.', 'too,', 'though', '\"What', 'lead\",', 'gazing', 'darkness,', 'pride', 'such', 'parents.', 'wealth', 'comfort', 'frightening', 'end?', 'much,', 'about,', 'crawling', 'evening,', 'closed', 'same;', 'enter', 'waited', 'resolved', 'either', 'timorous', 'visitor', 'was;', 'vain.', 'previous', 'locked', 'everyone', 'unlocked', 'came,', 'keys', 'sides.', 'late', 'gaslight', 'out,', 'awake', 'distinctly', 'tip-toe.', 'morning;', 'plenty', 'undisturbed', 're-arrange', 'life.', 'reason,', 'tall,', 'empty', 'forced', 'remain', 'uneasy', 'years.', 'shame,', 'couch.', 'head,', 'nonetheless', 'ease', 'regret', 'underneath.', 'spent', 'Some', 'passed', 'sleep,', 'frequently', 'hunger,', 'vague', 'hopes', 'which,', 'led', 'conclusion:', 'patience', 'greatest', 'bear', 'unpleasantness', 'condition,', 'impose', 'opportunity', 'test', 'strength', 'decisions,', 'ended,', 'anxiously', 'couch', 'somewhere,', \"God's\", 'flown', 'control', 'herself', 'outside.', 'behaviour,', 'tip-toe', 'stranger.', 'forward,', 'edge', 'couch,', 'watched', 'Would', 'realise', 'hunger', 'suitable?', 'rather', 'hungry', 'draw', 'terrible', \"sister's\", 'feet', 'However,', 'drops', 'splashed', 'surprise.', 'rag,', 'bare', 'carried', 'place,', 'imagining', 'wildest', 'possibilities,', 'guessed', 'goodness,', 'bring.', 'taste,', 'brought', 'selection', 'things,', 'old', 'newspaper.', 'old,', 'half-rotten', 'vegetables;', 'bones', 'meal,', 'sauce', 'hard;', 'raisins', 'almonds;', 'cheese', 'declared', 'inedible', 'days', 'before;', 'dry', 'roll', 'butter', 'salt.', 'poured', 'water', 'dish,', 'permanently', 'aside', 'use,', 'placed', 'Then,', 'feelings,', 'her,', 'comfortable', 'liked.', 'whirred,', \"What's\", 'injuries', 'healed', 'moving.', 'month', 'earlier', 'finger', 'knife,', 'hurt', 'yesterday.', '\"Am', 'less', 'sensitive', 'be,', 'sucking', 'greedily', 'compellingly,', 'attracted', 'foods', 'Quickly', 'another,', 'watering', 'consumed', 'cheese,', 'vegetables', 'sauce;', 'foods,', 'stand', 'smell.', 'Long', 'lethargic', 'withdraw.', 'startled,', 'asleep,', 'self-control', 'rounded', 'breathe', 'space.', 'Half', 'suffocating,', 'bulging', 'unselfconsciously', 'broom', 'swept', 'left-overs,', 'mixing', 'more.', 'dropped', 'bin,', 'lid,', 'received', 'second', 'eaten', 'midday', 'send', 'errand.', 'starve', 'either,', 'experience', 'feeding', 'distress', 'indeed', 'suffering', 'enough.', 'nobody,', 'content', 'sighs', 'saints', 'later,', 'becoming', 'comment,', 'comment', 'construed', 'friendly.', '\"He\\'s', 'enjoyed', 'dinner', 'today\",', 'diligently', 'cleared', 'frequent,', 'say,', 'sadly,', '\"now', \"everything's\", 'again\".', 'Although', 'news', 'directly', 'rooms,', 'scurry', 'appropriate', 'press', 'seldom', 'conversation,', 'secret.', 'days,', 'mealtime', 'meals', 'subject', 'empty.', 'knees', 'begged', 'delay.', 'within', 'hour,', 'tearfully', 'thanking', 'dismissal', 'service.', 'swore', 'emphatically', 'happened,', 'cooking;', 'bother', 'ate', 'much.', 'unsuccessfully', 'eat,', 'receive', '\"no', 'thanks,', 'enough\"', 'similar.', 'No-one', 'drank', 'either.', 'beer,', 'hoping', 'fetch', 'herself.', 'add,', 'selfish,', 'housekeeper', 'big,', 'said.', 'Even', 'end,', 'explained', 'finances', 'prospects', 'were.', 'receipt', 'document', 'cash', 'box', 'saved', 'collapsed', 'earlier.', 'complicated', 'taken', 'item', 'wanted.', 'incarcerated', 'different,', 'anyway.', 'Their', 'misfortune', 'reduced', 'despair,', 'arrange', 'fiery', 'vigour', 'junior', 'representative', 'overnight,', 'ways.', 'converted', 'success', 'benefit', 'astonished', 'delighted', 'splendour,', 'earned', 'costs', 'family,', 'gratitude', 'warm', 'affection', 'return.', 'Unlike', 'fond', 'music', 'gifted', 'expressive', 'violinist,', 'plan', 'conservatory', 'expense', 'During', 'periods', 'town,', 'mentioned', 'lovely', 'dream', 'realised.', 'talk,', 'decided', 'planned', 'grand', 'announcement', 'Christmas', 'day.', 'totally', 'pointless', 'tired', 'continue', 'listening,', 'wearily', 'pull', 'start,', 'silent.', 'while,', 'interrupted', 'repeated', 'matters', 'explanations', 'learned,', 'misfortunes', 'available', 'days.', 'lot,', 'meantime', 'interest', 'accumulated.', 'Besides', 'month,', 'keeping', 'accumulating.', 'Behind', 'nodded', 'enthusiasm', 'pleasure', 'unexpected', 'thrift', 'caution.', 'surplus', 'reduce', 'boss,', 'freed', 'closer,', 'money,', 'enable', 'interest;', 'maintain', 'for,', 'perhaps,', 'emergencies;', 'earned.', 'healthy', 'lacking', 'confidence.', 'holiday', 'strain', 'lot', 'slow', 'clumsy.', 'elderly', 'money?', 'suffered', 'asthma', 'struggling', 'sofa', 'window.', 'child', 'seventeen,', 'till', 'enviable,', 'consisting', 'wearing', 'clothes,', 'late,', 'helping', 'joining', 'modest', 'pleasures', 'playing', 'violin.', 'Whenever', 'cool,', 'leather', 'hot', 'shame', 'regret.', 'lie', 'wink', 'scratching', 'Or', 'climbing', 'sill', 'propped', 'leaning', 'stare', 'sense', 'freedom', 'this,', 'experienced,', 'distinct', 'near;', 'ever-present', 'street,', 'known', 'lived', 'Charlottenstrasse,', 'middle', 'city,', 'barren', 'grey', 'sky', 'earth', 'mingled', 'inseparably.', 'observant', 'twice', 'exact', 'tidied', 'inner', 'pane', 'on.', 'thank', 'easier', 'pain.', 'naturally,', 'pretend', 'burdensome', 'unpleasant', 'entered', 'No', 'sooner', 'precaution', 'suffer', 'suffocating.', 'while.', 'shivering', 'liked', 'ordeal,', 'closed.', 'transformation', 'appearance,', 'usual', 'staring', 'motionless,', 'horrible.', 'coming', 'surprise', 'stranger', 'threatened', 'bite', 'hide', 'wait', 'appearance', 'flee', 'protruded', 'sight,', 'carrying', 'bedsheet', 'arranged', 'bent', 'down.', 'sheet', 'glimpsed', 'arrangement.', 'fourteen', 'appreciated', 'girl', 'somewhat', 'useless', 'looked,', 'eaten,', 'behaved', 'whether,', 'improvement', 'visit', 'persuaded', 'listened', 'closely', 'approved', 'fully.', 'Later,', 'force,', 'out:', '\"Let', 'unfortunate', 'son!', \"Can't\", 'him?\",', 'week,', 'perhaps;', 'courage,', \"adult's\", 'appreciation', 'Out', 'square', 'meters', 'crawl', 'entertain', 'walls', 'ceiling.', 'ceiling;', 'floor;', 'freely;', 'relaxed', 'happy,', 'letting', 'crash.', 'damage.', 'Very', 'entertaining', 'had,', 'traces', 'removing', 'furniture', 'desk.', 'Now,', 'herself;', 'dare', 'father;', 'sixteen', 'bravely', 'cook', 'helped', 'unless', 'important;', 'choose', 'approached', 'express', 'joy,', 'First,', 'alright;', 'enter.', 'folds', 'thrown', 'chance.', 'refrained,', 'spying', 'sheet;', '\"You', 'seen\",', 'hand.', 'pair', 'feeble', 'women', 'heaving', 'heaviest', 'warnings', 'lasted', 'labouring', 'minutes', 'opposite;', 'saddened', 'heart;', \"he'd\", 'abandoned', 'quietly,', '(whose', 'whereabouts', 'know)', 'tone', 'added', '\"and', \"won't\", \"we've\", 'cope', 'himself?', \"it'd\", 'comes', 'unchanged', 'easier\".', 'Hearing', 'communication,', 'monotonous', 'months,', 'confused', 'emptied', 'transform', 'cave,', 'inherited?', 'unimpeded', 'human.', 'forgetting,', 'shaken', 'removed;', 'stay;', 'influence', 'condition;', 'mindlessly', 'loss', 'advantage.', 'agree;', 'idea,', 'spokesman', 'concerned', 'meant', 'advice', 'sufficient', 'insist', 'all-important', 'childish', 'perversity,', 'acquired,', 'insist;', 'whereas', 'see,', 'use', 'all.', 'Girls', 'age,', 'enthusiastic', 'can.', 'tempted', 'Grete', 'shocking', 'dominated', 'refused', 'dissuade', 'had.', 'to,', 'writing', 'desk', 'stay.', 'drawers,', 'groaning,', 'poked', 'considerate', 'but,', 'chest,', 'pulling', 'without,', 'inch.', 'ill,', 'end', 'startlement,', 'prevent', 'little.', 'attract', 'attention.', 'Grete.', 'assure', 'unusual', 'admit', 'fro,', 'calls', 'other,', 'scraping', 'assailed', 'With', 'longer.', 'emptying', 'dear', 'containing', 'fretsaw', 'tools;', 'worn', 'homework', 'trainee,', 'high', 'school,', 'infant', 'school--he', \"women's\", 'good.', 'stepped', 'So,', 'catching', 'breath,', 'sallied', 'changed', 'denuded', 'copious', 'fur.', 'glass,', 'firmly', 'belly.', 'least,', 'no-one.', 'watch', 'soon;', 'shall', 'Her', 'met', 'wall.', 'said,', 'albeit', 'tremor', '\"Come', \"let's\", 'while?\"', 'mind,', 'somewhere', 'safe', 'chase', 'unyielding', 'picture.', 'jump', \"Grete's\", 'side,', 'patch', 'flowers', 'wallpaper,', 'screamed:', '\"Oh', 'God,', 'oh', 'Arms', 'outstretched,', 'immobile.', '\"Gregor!\"', 'shouted', 'glowering', 'shaking', 'spoken', 'transformation.', 'smelling', 'salts', 'faint;', 'glass', 'force;', 'advise', 'days;', 'nothing;', 'various', 'bottles,', 'startled', 'round;', 'bottle', 'broke;', 'splinter', 'face,', 'caustic', 'medicine', 'delaying', 'bottles', 'mother;', 'foot.', 'death;', 'wait;', 'oppressed', 'anxiety', 'self-reproach,', 'walls,', 'ceiling,', 'confusion', 'spin', 'table.', 'numb', 'immobile,', 'quiet,', 'sign.', 'maid,', 'arrived', 'happened?\"', 'words;', 'subdued', 'openly', 'chest:', '\"Mother\\'s', 'fainted,', \"she's\", 'out.\"', '\"Just', 'expected\",', '\"just', 'listen,', 'mean', 'responsible', 'act', 'violence.', 'delay,', 'disappear.', 'subtleties', '\"Ah!\",', 'sounding', 'angry', 'imagined', 'neglected', 'changed,', 'father?', 'man', 'laying', 'entombed', 'trips,', 'armchair', 'nightgown', 'walk', 'Sunday', 'public', 'wrapped', 'overcoat', 'labour', 'walking', 'sake;', 'invariably', 'gather', 'companions', 'standing', 'smart', 'blue', 'gold', 'buttons,', 'banking', 'institute;', 'high,', 'collar', 'coat', 'double-chin', 'emerged;', 'bushy', 'eyebrows,', 'piercing,', 'alert;', 'unkempt', 'combed', 'scalp.', 'cap,', 'monogram', 'from,', 'probably,', 'bank,', 'arc', 'sofa,', 'trouser', 'pockets,', 'bottom', 'coat,', 'determination,', 'walked', 'unusually', 'high.', 'soles', 'boots,', 'wasted', 'strict', 'stopped,', 'scurried', 'moved,', 'slightly.', 'decisive', 'largely', 'feared', 'provoking', 'step', 'countless', 'movements.', 'noticeably', 'lungs', 'reliable.', 'lurched', 'efforts', 'muster', 'saving', 'running;', 'forgot', 'although,', 'concealed', 'carved', 'notches', 'protrusions', 'tossed,', 'apple;', 'shock;', 'point', 'bombard', 'pockets', 'fruit', 'bowl', 'sideboard', 'aim,', 'apple', 'another.', 'These', 'red', 'apples', 'motors.', 'An', 'glanced', 'harm.', 'Another', 'squarely', 'lodged', 'back;', 'drag', 'surprising,', 'incredible', 'changing', 'position;', 'nailed', 'spot', 'senses', 'confusion.', 'open,', 'screaming,', 'blouse', '(as', 'clothes', 'fainted', 'breathe),', 'unfastened', 'sliding', 'ground,', 'stumbling', 'uniting', 'ability', 'begging', 'III', 'dared', 'flesh,', 'visible', 'reminder', 'injury.', 'current', 'sad', 'revolting', 'form,', 'member', 'treated', 'enemy.', 'contrary,', 'duty', 'swallow', 'revulsion', 'patient,', 'patient.', 'injuries,', 'mobility', 'permanently.', 'ancient', 'invalid', 'deterioration', '(in', 'opinion)', 'darkness', \"everyone's\", 'permission,', 'thus', 'differently', 'conversations', 'ones', 'longing', 'damp', 'hotel', 'All', 'nowadays.', 'Soon', 'dinner,', 'chair;', 'quiet;', 'lamp,', 'sew', 'fancy', 'underwear', 'fashion', 'shop;', 'sales', 'job,', 'shorthand', 'French', 'evenings', 'Sometimes', 'wake', '\"you\\'re', 'sewing', 'today!\",', 'dozing', 'exchange', 'grin.', 'stubbornness,', 'home;', 'unused', 'peg', 'slumber', 'serve', 'expecting', 'superior', 'here.', 'with,', 'result', 'shabbier', 'stains', 'buttons', 'shiny,', 'uncomfortable', 'peaceful.', 'ten,', 'gently', 'work.', 'obstinate', 'table,', 'regularly', 'asleep', 'importune', 'reproaches', 'hour', 'refusing', 'tug', 'sleeve,', 'whisper', 'endearments', 'ear,', 'effect', 'sink', 'deeper', 'abruptly', 'eyes,', 'say:', 'life!', 'age!\"', 'supported', 'needle', 'pen', 'Who,', 'overworked', 'absolutely', 'necessary?', 'household', 'budget', 'smaller;', 'dismissed;', 'enormous,', 'thick-boned', 'charwoman', 'flapped', 'work;', 'amount', 'did.', 'price', 'hoped', 'items', 'jewellery', 'belonging', 'sold,', 'functions', 'celebrations.', 'loudest', 'complaint', 'circumstances,', 'imaginable', 'transferring', 'address.', 'reasons', 'move,', 'transport', 'crate', 'holes', 'unlike', 'experienced', 'related', 'to.', 'world', 'expects', 'poor', 'bank', 'sacrificed', 'strangers,', 'behest', 'customers,', 'injury', 'new.', 'sit', 'together,', 'cheek', 'cheek;', '\"Close', 'Grete\",', 'mingle,', 'dry-eyed', \"family's\", 'affairs,', 'opened;', 'appear', 'thoughts,', 'apprentices,', 'stupid', 'teaboy,', 'friends', 'businesses,', 'chambermaids', 'provincial', 'hotel,', 'memory', 'appeared', 'cashier', 'shop', 'whom', 'slow,', 'strangers', 'forgotten,', 'inaccessible,', 'disappeared.', 'rage', 'shown,', 'wanted,', 'plans', 'pantry', 'entitled', 'hungry.', 'midday,', 'sweep', 'broom,', 'indifferent', 'untouched.', 'quicker', 'Smears', 'dirt', 'balls', 'dust', 'filth.', 'worst', 'places', 'reproach', 'weeks', 'touchy', 'understood', 'cleaning', 'alone.', 'thoroughly', 'clean', 'bucketfuls', 'dampness', 'bitter', 'punished', 'aggrieved,', 'mothers', 'imploring', 'broke', 'convulsive', 'tears.', 'helpless;', 'they,', 'agitated;', 'accused', 'sister;', 'screamed', 'anger,', 'bedroom;', 'quaking', 'thumped', 'fists;', 'hissed', 'closing', 'neglected.', 'widow,', 'robust', 'bone', 'structure', 'withstand', 'hardest', 'repelled', 'curiosity,', 'surprise,', 'chasing', 'fro', 'amazement', 'crossed', 'failed', 'briefly', 'considered', 'friendly,', '\"come', 'dung-beetle!\",', '\"look', 'dung-beetle', 'there!\"', 'responded', 'opened.', 'disturb', 'windowpanes,', 'indicating', 'spring', 'coming,', 'resentful', 'toward', 'infirm,', 'attack.', 'Instead', 'afraid,', 'chairs', 'intending', '\"Aren\\'t', 'corner.', 'eating.', 'prepared', 'play', 'not,', 'spit', 'eating,', 'changes', 'anywhere', 'rooms', 'rented', 'gentlemen.', 'earnest', 'beards,', 'peering', 'insistent', \"things'\", 'tidy.', 'establishment,', 'kitchen.', 'Unnecessary', 'clutter', 'tolerate,', 'dirty.', 'furnishings', 'equipment', 'superfluous', 'discard.', 'dustbins', 'too.', 'hurry,', 'chuck', 'He,', 'fortunately,', 'object', 'woman', 'likely', 'opportunity,', 'junk', 'else.', 'enjoy', 'death,', 'immobile', 'afterwards.', 'everyone,', 'lain', 'darkest', 'formerly,', 'serviettes', 'knives', 'forks.', 'meat', 'piled', 'potatoes.', 'steaming,', 'dishes', 'gentleman', 'middle,', 'count', 'authority', 'two,', 'piece', 'wishing', 'establish', 'sufficiently', 'cooked', 'satisfaction,', 'anxiously,', 'smiled.', 'Nonetheless,', 'kitchen,', 'bowed', 'cap', 'mumbled', 'beards.', 'alone,', 'perfect', 'silence.', 'remarkable', 'chewing', 'heard,', 'perform', 'toothless', 'be.', '\"I\\'d', 'something\",', '\"but', \"they're\", 'feed', 'am,', 'dying!\"', 'Throughout', 'violin', 'played,', 'produced', 'newspaper,', 'page', 'others,', 'smoking.', 'attentive,', 'hallway', 'Someone', '\"Is', 'gentlemen?', 'away.\"', '\"On', 'contrary\",', 'gentleman,', '\"would', 'young', 'cosy', 'comfortable?\"', \"we'd\", 'love', 'to\",', 'player', 'waited.', 'stand,', 'begin', 'playing;', 'therefore', 'exaggerated', 'courtesy', 'gentlemen,', 'chairs;', 'coat;', 'offered', 'seat', 'play;', 'paid', 'attention,', 'movements', 'hands.', 'Drawn', 'playing,', 'Before,', 'thoughtless', 'hidden', 'everywhere', 'movement;', 'threads,', 'hairs,', 'remains', 'sides;', 'wipe', 'carpet', 'shy', 'immaculate', 'preoccupied', 'notes', 'disturbed', 'soon,', 'withdrew', 'heads', 'sunk', 'volume,', 'observed', 'anxiously.', 'obvious', 'beautiful', 'disappointed,', 'performance', 'politeness', 'disturbed.', 'unnerving,', 'blew', 'smoke', 'cigarettes', 'upwards', 'noses.', 'Yet', 'beautifully.', 'lines', 'melancholy', 'expression.', 'meet', 'came.', 'animal', 'captivate', 'so?', 'shown', 'unknown', 'nourishment', 'yearning', 'for.', 'determined', 'skirt', 'violin,', 'would.', 'lived,', 'anyway;', 'should,', 'once,', 'hiss', 'attackers;', 'will;', 'ear', 'conservatory,', 'already?', 'refuse', 'hearing', 'emotion,', 'shoulder', 'kiss', 'neck,', 'necklace', 'collar.', 'Samsa!\",', 'pointing,', 'wasting', 'forefinger', 'forward.', 'silent,', 'smiled', 'friends,', 'driving', 'been.', 'attempted', 'block', 'body.', 'annoyed,', 'behaviour', 'dawning', 'realisation', 'neighbour', 'explanations,', 'tugged', 'beards', 'despair', 'interrupted.', 'drop', 'bow', 'hang', 'limply', 'instrument', 'lap', 'laboriously', 'pressure', 'toward.', 'Under', 'pillows', 'covers', 'beds', 'slipped', 'obsessed', 'owed', 'tenants.', 'urged', 'until,', 'thunder', 'thereby', 'halt.', 'declare', 'glancing', 'gain', 'repugnant', 'conditions', 'prevail', 'family\"', 'decisively', 'contrary', 'proceed', 'action', 'damages', 'grounds', 'action.\"', 'silent', 'ahead', 'something.', 'indeed,', 'joined', 'words:', '\"And', 'notice.\"', 'staggered', 'seat,', 'stretching', 'nap', 'uncontrolled', 'nodding', 'disappointment', 'plan,', 'weak', 'move.', '\"Father,', 'Mother\",', 'introduction,', '\"we', 'this.', 'monster', 'brother,', 'is:', 'rid', \"We've\", 'humanly', 'wrong.\"', '\"She\\'s', 'right\",', 'cough', 'dully,', 'deranged', 'expression', 'eyes.', 'forehead.', 'definite', 'ideas.', 'played', 'plates', 'occasionally', '\"We', 'it\",', 'coughing', '\"it\\'ll', 'death', 'coming.', 'tortured', 'endure', 'more.\"', 'wiped', 'mechanical', '\"My', 'child\",', 'sympathy', 'understanding,', 'do?\"', 'shrugged', 'helplessness', 'displacing', 'certainty.', '\"If', 'us\",', 'question;', 'shook', 'vigorously', 'question.', 'acceptance', 'certainty', 'impossible,', '\"then', 'arrangement', '...\"', '\"It\\'s', 'go\",', '\"that\\'s', 'Father.', 'harmed', 'ourselves', 'long.', 'Gregor?', 'ago', 'beings', 'will.', 'brother', 'lives', 'respect.', 'persecuting', 'us,', 'tenants,', 'streets.', 'Father,', 'look,', 'look\",', 'screamed,', 'starting', 'again!\"', 'alarm,', 'beyond', 'comprehension,', 'willing', 'sacrifice', 'excited', 'protect', 'anyone,', 'sister.', 'startling', 'pain-wracked', 'required', 'deal', 'repeatedly', 'striking', 'alarmed', 'briefly.', 'unhappy', 'exhaustion;', 'neck.', '\"Maybe', \"they'll\", 'round\",', 'panting', 'ahead.', 'separated', 'noticing', 'concentrated', 'word,', 'cry,', 'distract', 'neck', 'stiff,', 'glance', 'asleep.', 'shut,', 'locked.', 'rush.', 'sprung', 'lightly,', '\"At', 'last!\".', 'darkness.', 'discovery', 'spindly', 'unnatural.', 'comfortable.', 'aching,', 'weaker', 'disappear', 'altogether.', 'decayed', 'inflamed', 'area', 'dust.', 'emotion', 'love.', 'strongly', 'peaceful', 'rumination', 'tower', 'strike', 'morning.', 'completely,', 'weakly', 'nostrils.', 'cleaner', \"they'd\", 'slamming', 'hurry', \"she'd\", 'brief', 'special.', 'purpose,', 'martyr;', 'attributed', 'understanding', 'tickle', 'nuisance', 'resistance', 'wide,', 'whistled', 'yank', 'bedroom', 'shout', 'bedrooms:', \"'ave\", 'dead,', 'stone', 'dead!\"', 'marriage', 'shock', 'blanket', 'shoulders,', 'nightdress;', 'in;', 'paleness', 'confirm', '\"Dead?\",', 'enquiringly,', 'checked', 'checking.', '\"That\\'s', 'said\",', 'replied', 'cleaner,', 'prove', 'sending', 'sideways', 'movement', 'complete', '\"Now', '\"let\\'s', 'thanks', 'God', 'that\".', 'example.', 'Grete,', 'corpse,', 'said:', 'in\".', 'dried', 'flat,', '\"Grete,', 'while\",', 'pained', 'smile,', 'wide.', 'warmth', 'March,', 'breakfasts;', 'about.', '\"Where', 'breakfast?\",', 'irritably.', 'lips', 'quick', 'men', 'corpse', 'well-worn', 'coats.', 'wife', 'daughter', 'crying', 'little;', 'arm.', '\"Leave', 'Now!\",', 'mean?\",', 'disconcerted,', 'sweetly.', 'backs', 'continually', 'gleeful', 'anticipation', 'quarrel', 'favour.', 'companions,', 'contents', 'rearranging', 'positions.', '\"Alright,', \"we'll\", 'humility', 'permission', 'decision.', 'strides', 'hallway;', 'rubbing', 'friend', 'fear', 'connection', 'leader.', 'hats', 'sticks', 'holder,', 'premises.', 'landing;', 'mistrust', \"men's\", 'leaned', 'progress', 'steps.', 'corner', 'reappear', 'moments', 'later;', 'went,', \"butcher's\", 'boy,', 'proud', 'posture', 'tray', 'nearer', 'were,', 'relieved,', 'walk;', 'wrote', 'letters', 'excusal,', 'employers,', 'contractor', 'principal.', 'writing,', 'irritation.', '\"Well?\",', 'Samsa.', 'tremendous', 'report,', 'vertical', 'ostrich', 'feather', 'hat,', 'source', 'irritation', 'directions.', '\"Yes\",', 'answered,', 'laugh', '\"well', \"needn't\", 'sorted', 'intent', 'continuing', 'writing;', 'describing', 'detail', 'prevented', 'telling', 'peeved,', '\"Cheerio', 'everyone\",', 'sharply', 'terribly', '\"Tonight', 'gets', 'sacked\",', 'destroyed', 'gained.', 'twisted', 'then.', \"Let's\", 'stuff,', 'we.', 'Come', 'attention\".', 'kissed', 'hugged', 'letters.', 'tram', 'country', 'town.', 'tram,', 'sunshine,', 'Leant', 'comfortably', 'seats,', 'discussed', 'closer', 'examination', 'jobs', 'promise', 'being,', 'house;', 'smaller', 'cheaper', 'chosen', 'location', 'practical.', 'livelier.', 'cheeks', 'pale,', 'talking,', 'struck,', 'simultaneously,', 'blossoming', 'built', 'lady.', 'quieter.', \"other's\", 'agreed', 'And,', 'confirmation', 'dreams', 'intentions,', 'destination']\n"
          ]
        }
      ]
    },
    {
      "cell_type": "markdown",
      "source": [
        "### Tokenization"
      ],
      "metadata": {
        "id": "zgW64pd50MFe"
      }
    },
    {
      "cell_type": "code",
      "source": [
        "tokenizer = Tokenizer()\n",
        "tokenizer.fit_on_texts([data])\n",
        "\n",
        "sequence_data = tokenizer.texts_to_sequences([data])[0]\n",
        "sequence_data[:10]"
      ],
      "metadata": {
        "colab": {
          "base_uri": "https://localhost:8080/"
        },
        "id": "u35dCVScz9Ut",
        "outputId": "1b2924e1-ec97-4072-e132-cc0382286f18"
      },
      "execution_count": 6,
      "outputs": [
        {
          "output_type": "execute_result",
          "data": {
            "text/plain": [
              "[17, 53, 293, 2, 18, 729, 135, 730, 294, 8]"
            ]
          },
          "metadata": {},
          "execution_count": 6
        }
      ]
    },
    {
      "cell_type": "code",
      "source": [
        "vocab_size = len(tokenizer.word_index) + 1\n",
        "print(vocab_size)"
      ],
      "metadata": {
        "colab": {
          "base_uri": "https://localhost:8080/"
        },
        "id": "YEgi6Fml0xND",
        "outputId": "a07066c5-fe4c-4c13-e3a9-3c2479ddb007"
      },
      "execution_count": 7,
      "outputs": [
        {
          "output_type": "stream",
          "name": "stdout",
          "text": [
            "2617\n"
          ]
        }
      ]
    },
    {
      "cell_type": "code",
      "source": [
        "sequences = []\n",
        "\n",
        "for i in range(1, len(sequence_data)):\n",
        "    words = sequence_data[i-1:i+1]\n",
        "    sequences.append(words)\n",
        "\n",
        "print(\"The Length of sequences are: \", len(sequences))\n",
        "sequences = np.array(sequences)\n",
        "sequences[:10]"
      ],
      "metadata": {
        "colab": {
          "base_uri": "https://localhost:8080/"
        },
        "id": "2_IQjJgG04eW",
        "outputId": "e8b752a5-b66f-4bc2-e0ba-ebd913da5d5b"
      },
      "execution_count": 8,
      "outputs": [
        {
          "output_type": "stream",
          "name": "stdout",
          "text": [
            "The Length of sequences are:  3889\n"
          ]
        },
        {
          "output_type": "execute_result",
          "data": {
            "text/plain": [
              "array([[ 17,  53],\n",
              "       [ 53, 293],\n",
              "       [293,   2],\n",
              "       [  2,  18],\n",
              "       [ 18, 729],\n",
              "       [729, 135],\n",
              "       [135, 730],\n",
              "       [730, 294],\n",
              "       [294,   8],\n",
              "       [  8, 731]])"
            ]
          },
          "metadata": {},
          "execution_count": 8
        }
      ]
    },
    {
      "cell_type": "code",
      "source": [
        "X = []\n",
        "y = []\n",
        "\n",
        "for i in sequences:\n",
        "    X.append(i[0])\n",
        "    y.append(i[1])\n",
        "\n",
        "X = np.array(X)\n",
        "y = np.array(y)"
      ],
      "metadata": {
        "id": "miseeh7m07ap"
      },
      "execution_count": 9,
      "outputs": []
    },
    {
      "cell_type": "code",
      "source": [
        "sequence_length = 10\n",
        "X_sequences = []\n",
        "y_labels = []\n",
        "\n",
        "for i in range(len(X) - sequence_length):\n",
        "    X_sequences.append(X[i:i + sequence_length])\n",
        "    y_labels.append(X[i + sequence_length])\n",
        "\n",
        "X_sequences = np.array(X_sequences)\n",
        "y_labels = np.array(y_labels)\n",
        "\n",
        "\n",
        "from tensorflow.keras.utils import to_categorical\n",
        "y_labels = to_categorical(y_labels, num_classes=vocab_size)\n"
      ],
      "metadata": {
        "id": "5e3o6OQU7e3F"
      },
      "execution_count": 10,
      "outputs": []
    },
    {
      "cell_type": "markdown",
      "source": [
        "### Model"
      ],
      "metadata": {
        "id": "yCcuCwLD1Vwj"
      }
    },
    {
      "cell_type": "code",
      "source": [
        "model = Sequential()\n",
        "model.add(Embedding(vocab_size, 10))\n",
        "\n",
        "model.add(LSTM(1000, return_sequences=True))\n",
        "model.add(LSTM(1000))\n",
        "model.add(Dense(1000, activation=\"relu\"))\n",
        "model.add(Dense(vocab_size, activation=\"softmax\"))"
      ],
      "metadata": {
        "id": "HmcAwxOt1TNo"
      },
      "execution_count": 11,
      "outputs": []
    },
    {
      "cell_type": "code",
      "source": [
        "model.build(input_shape=(None, 10))"
      ],
      "metadata": {
        "id": "iIiXUQt11sZT"
      },
      "execution_count": 12,
      "outputs": []
    },
    {
      "cell_type": "code",
      "source": [
        "model.compile(\n",
        "    loss=\"categorical_crossentropy\",\n",
        "    optimizer=Adam(learning_rate=0.001)\n",
        ")\n"
      ],
      "metadata": {
        "id": "PYIbLmYq1wIP"
      },
      "execution_count": 13,
      "outputs": []
    },
    {
      "cell_type": "code",
      "source": [
        "X.shape"
      ],
      "metadata": {
        "colab": {
          "base_uri": "https://localhost:8080/"
        },
        "id": "s23Ix2vP4o4S",
        "outputId": "1e053b15-d3a9-43a8-b6c2-08ea25c1ccb3"
      },
      "execution_count": 14,
      "outputs": [
        {
          "output_type": "execute_result",
          "data": {
            "text/plain": [
              "(3889,)"
            ]
          },
          "metadata": {},
          "execution_count": 14
        }
      ]
    },
    {
      "cell_type": "code",
      "source": [
        "X"
      ],
      "metadata": {
        "colab": {
          "base_uri": "https://localhost:8080/"
        },
        "id": "mMpqAQVy5cYI",
        "outputId": "e21cb60b-e0c8-46c1-a6da-18a1bfbd3d1d"
      },
      "execution_count": 15,
      "outputs": [
        {
          "output_type": "execute_result",
          "data": {
            "text/plain": [
              "array([  17,   53,  293, ..., 2615,  294,  591])"
            ]
          },
          "metadata": {},
          "execution_count": 15
        }
      ]
    },
    {
      "cell_type": "code",
      "source": [
        "model.fit(X_sequences, y_labels, epochs=20)"
      ],
      "metadata": {
        "colab": {
          "base_uri": "https://localhost:8080/"
        },
        "id": "bomOZvTg50eC",
        "outputId": "ce203f47-2fb4-49a4-caa2-8ec62c5d67ee"
      },
      "execution_count": 16,
      "outputs": [
        {
          "output_type": "stream",
          "name": "stdout",
          "text": [
            "Epoch 1/20\n",
            "\u001b[1m122/122\u001b[0m \u001b[32m━━━━━━━━━━━━━━━━━━━━\u001b[0m\u001b[37m\u001b[0m \u001b[1m124s\u001b[0m 963ms/step - loss: 7.8758\n",
            "Epoch 2/20\n",
            "\u001b[1m122/122\u001b[0m \u001b[32m━━━━━━━━━━━━━━━━━━━━\u001b[0m\u001b[37m\u001b[0m \u001b[1m142s\u001b[0m 968ms/step - loss: 7.8538\n",
            "Epoch 3/20\n",
            "\u001b[1m122/122\u001b[0m \u001b[32m━━━━━━━━━━━━━━━━━━━━\u001b[0m\u001b[37m\u001b[0m \u001b[1m141s\u001b[0m 956ms/step - loss: 7.8058\n",
            "Epoch 4/20\n",
            "\u001b[1m122/122\u001b[0m \u001b[32m━━━━━━━━━━━━━━━━━━━━\u001b[0m\u001b[37m\u001b[0m \u001b[1m117s\u001b[0m 961ms/step - loss: 7.6810\n",
            "Epoch 5/20\n",
            "\u001b[1m122/122\u001b[0m \u001b[32m━━━━━━━━━━━━━━━━━━━━\u001b[0m\u001b[37m\u001b[0m \u001b[1m140s\u001b[0m 947ms/step - loss: 7.4382\n",
            "Epoch 6/20\n",
            "\u001b[1m122/122\u001b[0m \u001b[32m━━━━━━━━━━━━━━━━━━━━\u001b[0m\u001b[37m\u001b[0m \u001b[1m144s\u001b[0m 969ms/step - loss: 6.9085\n",
            "Epoch 7/20\n",
            "\u001b[1m122/122\u001b[0m \u001b[32m━━━━━━━━━━━━━━━━━━━━\u001b[0m\u001b[37m\u001b[0m \u001b[1m140s\u001b[0m 947ms/step - loss: 5.9836\n",
            "Epoch 8/20\n",
            "\u001b[1m122/122\u001b[0m \u001b[32m━━━━━━━━━━━━━━━━━━━━\u001b[0m\u001b[37m\u001b[0m \u001b[1m140s\u001b[0m 939ms/step - loss: 4.6427\n",
            "Epoch 9/20\n",
            "\u001b[1m122/122\u001b[0m \u001b[32m━━━━━━━━━━━━━━━━━━━━\u001b[0m\u001b[37m\u001b[0m \u001b[1m144s\u001b[0m 953ms/step - loss: 3.2131\n",
            "Epoch 10/20\n",
            "\u001b[1m122/122\u001b[0m \u001b[32m━━━━━━━━━━━━━━━━━━━━\u001b[0m\u001b[37m\u001b[0m \u001b[1m141s\u001b[0m 1s/step - loss: 1.9993\n",
            "Epoch 11/20\n",
            "\u001b[1m122/122\u001b[0m \u001b[32m━━━━━━━━━━━━━━━━━━━━\u001b[0m\u001b[37m\u001b[0m \u001b[1m133s\u001b[0m 1s/step - loss: 1.1532\n",
            "Epoch 12/20\n",
            "\u001b[1m122/122\u001b[0m \u001b[32m━━━━━━━━━━━━━━━━━━━━\u001b[0m\u001b[37m\u001b[0m \u001b[1m121s\u001b[0m 994ms/step - loss: 0.6712\n",
            "Epoch 13/20\n",
            "\u001b[1m122/122\u001b[0m \u001b[32m━━━━━━━━━━━━━━━━━━━━\u001b[0m\u001b[37m\u001b[0m \u001b[1m138s\u001b[0m 963ms/step - loss: 0.3322\n",
            "Epoch 14/20\n",
            "\u001b[1m122/122\u001b[0m \u001b[32m━━━━━━━━━━━━━━━━━━━━\u001b[0m\u001b[37m\u001b[0m \u001b[1m115s\u001b[0m 943ms/step - loss: 0.2048\n",
            "Epoch 15/20\n",
            "\u001b[1m122/122\u001b[0m \u001b[32m━━━━━━━━━━━━━━━━━━━━\u001b[0m\u001b[37m\u001b[0m \u001b[1m116s\u001b[0m 952ms/step - loss: 0.1368\n",
            "Epoch 16/20\n",
            "\u001b[1m122/122\u001b[0m \u001b[32m━━━━━━━━━━━━━━━━━━━━\u001b[0m\u001b[37m\u001b[0m \u001b[1m122s\u001b[0m 999ms/step - loss: 0.0848\n",
            "Epoch 17/20\n",
            "\u001b[1m122/122\u001b[0m \u001b[32m━━━━━━━━━━━━━━━━━━━━\u001b[0m\u001b[37m\u001b[0m \u001b[1m137s\u001b[0m 959ms/step - loss: 0.0762\n",
            "Epoch 18/20\n",
            "\u001b[1m122/122\u001b[0m \u001b[32m━━━━━━━━━━━━━━━━━━━━\u001b[0m\u001b[37m\u001b[0m \u001b[1m141s\u001b[0m 951ms/step - loss: 0.0546\n",
            "Epoch 19/20\n",
            "\u001b[1m122/122\u001b[0m \u001b[32m━━━━━━━━━━━━━━━━━━━━\u001b[0m\u001b[37m\u001b[0m \u001b[1m112s\u001b[0m 917ms/step - loss: 0.1266\n",
            "Epoch 20/20\n",
            "\u001b[1m122/122\u001b[0m \u001b[32m━━━━━━━━━━━━━━━━━━━━\u001b[0m\u001b[37m\u001b[0m \u001b[1m141s\u001b[0m 915ms/step - loss: 0.1033\n"
          ]
        },
        {
          "output_type": "execute_result",
          "data": {
            "text/plain": [
              "<keras.src.callbacks.history.History at 0x7de582d3be50>"
            ]
          },
          "metadata": {},
          "execution_count": 16
        }
      ]
    },
    {
      "cell_type": "code",
      "source": [],
      "metadata": {
        "colab": {
          "base_uri": "https://localhost:8080/"
        },
        "id": "v6_PwqG974fa",
        "outputId": "cf693ac7-c7d4-44dd-9d64-799dabebe9ea"
      },
      "execution_count": 17,
      "outputs": [
        {
          "output_type": "execute_result",
          "data": {
            "text/plain": [
              "array([[  17,   53,  293, ...,  730,  294,    8],\n",
              "       [  53,  293,    2, ...,  294,    8,  731],\n",
              "       [ 293,    2,   18, ...,    8,  731,   19],\n",
              "       ...,\n",
              "       [ 367,  398, 2609, ..., 2613, 2614,   20],\n",
              "       [ 398, 2609, 2610, ..., 2614,   20, 2615],\n",
              "       [2609, 2610, 2611, ...,   20, 2615,  294]])"
            ]
          },
          "metadata": {},
          "execution_count": 17
        }
      ]
    },
    {
      "cell_type": "code",
      "source": [
        "def predict_next_word(model, tokenizer, seed_text, sequence_length=10):\n",
        "\n",
        "    tokens = tokenizer.texts_to_sequences([seed_text])[0]\n",
        "\n",
        "    tokens = tokens[-sequence_length:]\n",
        "\n",
        "    from tensorflow.keras.preprocessing.sequence import pad_sequences\n",
        "    padded = pad_sequences([tokens], maxlen=sequence_length)\n",
        "\n",
        "    predicted_probs = model.predict(padded, verbose=0)\n",
        "    predicted_id = predicted_probs.argmax()\n",
        "\n",
        "    index_word = {v: k for k, v in tokenizer.word_index.items()}\n",
        "    return index_word.get(predicted_id, \"<UNK>\")\n"
      ],
      "metadata": {
        "id": "5MP0ykfP76Tt"
      },
      "execution_count": 18,
      "outputs": []
    },
    {
      "cell_type": "code",
      "source": [
        "seed_text = \"what a strenous\"\n",
        "next_word = predict_next_word(model, tokenizer, seed_text)\n",
        "print(\"Next word prediction:\", next_word)\n"
      ],
      "metadata": {
        "colab": {
          "base_uri": "https://localhost:8080/"
        },
        "id": "xg4PxHsiNH-b",
        "outputId": "4972cb6d-6dc6-440c-cc4f-2314dce1c34c"
      },
      "execution_count": 33,
      "outputs": [
        {
          "output_type": "stream",
          "name": "stdout",
          "text": [
            "Next word prediction: future\n"
          ]
        }
      ]
    }
  ]
}